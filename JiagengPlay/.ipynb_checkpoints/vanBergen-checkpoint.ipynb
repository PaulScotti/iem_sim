{
 "cells": [
  {
   "cell_type": "code",
   "execution_count": 517,
   "metadata": {},
   "outputs": [],
   "source": [
    "import numpy as np\n",
    "import matplotlib.pyplot as plt\n",
    "import scipy.optimize\n",
    "import scipy.integrate\n",
    "import scipy"
   ]
  },
  {
   "cell_type": "code",
   "execution_count": 518,
   "metadata": {},
   "outputs": [],
   "source": [
    "nvox = 100 # Number of voxels\n",
    "ntrials = 50 # Number of trials\n",
    "nchan = 8 # Number of channels"
   ]
  },
  {
   "cell_type": "code",
   "execution_count": 519,
   "metadata": {},
   "outputs": [],
   "source": [
    "# functions\n",
    "def fun_basis(s):\n",
    "    TuningCentres = np.arange(0,2*np.pi-0.001,2*np.pi/8)\n",
    "    s = np.ravel(s)\n",
    "    c = np.maximum(0,np.cos(np.tile(s,[8,1]).T-TuningCentres))**5\n",
    "    return c\n",
    "\n",
    "def MatProdDiag(mat1,mat2):\n",
    "    M = np.multiply(mat1,mat2.T)\n",
    "    out = np.sum(M, axis=1)\n",
    "    return out\n",
    "\n",
    "def fun_minLL(s):\n",
    "    bwc = b-W@fun_basis(s).T \n",
    "    negll = 0.5*MatProdDiag(bwc.T@prec_mat,bwc)\n",
    "    return negll\n",
    "\n",
    "def globminsearch():\n",
    "    inits = np.linspace(0, 2*np.pi, 200)\n",
    "    fvals = fun_minLL(inits)\n",
    "    minI = np.argmin(fvals)\n",
    "    sol, mll, iter, funcalls, warnflag = scipy.optimize.fmin(fun_minLL, x0=inits[minI],maxiter=1e10, xtol=1e-10,full_output=True,disp=False)\n",
    "    return sol, mll\n",
    "\n",
    "def fun_lik(s):\n",
    "    ll = np.exp(-fun_minLL(s)+mll)\n",
    "    return ll\n",
    "\n",
    "def fun_Eth1(s):\n",
    "    out = (fun_lik(s)/Integ).T*np.exp(1j*s)\n",
    "    return out\n",
    "\n",
    "def complex_quadrature(func, a, b, **kwargs):\n",
    "    def real_func(x):\n",
    "        return scipy.real(func(x))\n",
    "    def imag_func(x):\n",
    "        return scipy.imag(func(x))\n",
    "    real_integral = scipy.integrate.quad(real_func, a, b, **kwargs)\n",
    "    imag_integral = scipy.integrate.quad(imag_func, a, b, **kwargs)\n",
    "    return (real_integral[0] + 1j*imag_integral[0], real_integral[1:], imag_integral[1:])"
   ]
  },
  {
   "cell_type": "code",
   "execution_count": 520,
   "metadata": {},
   "outputs": [],
   "source": [
    "# Simulate generative model parameters & resulting covariance matrix\n",
    "W = np.random.randn(nvox, nchan)\n",
    "tau_sim = np.random.randn(nvox,1)*0.035+0.7\n",
    "sig_sim = 0.3\n",
    "rho_sim = 0.05"
   ]
  },
  {
   "cell_type": "markdown",
   "metadata": {},
   "source": [
    "Define $W$,$\\tau$,$\\sigma$,$\\rho$"
   ]
  },
  {
   "cell_type": "code",
   "execution_count": 521,
   "metadata": {},
   "outputs": [],
   "source": [
    "cov_sim = (1-rho_sim)*np.diag(np.ravel(tau_sim)**2) + rho_sim*(np.matrix(tau_sim)@np.matrix(tau_sim).T) + sig_sim**2*(W@W.T)"
   ]
  },
  {
   "cell_type": "markdown",
   "metadata": {},
   "source": [
    "Define $\\Omega$\n",
    "$$\\Omega=(1-\\rho)I\\circ\\tau\\tau^T + \\rho\\tau\\tau^T + \\sigma^2WW^T$$"
   ]
  },
  {
   "cell_type": "code",
   "execution_count": 522,
   "metadata": {},
   "outputs": [],
   "source": [
    "prec_mat = np.linalg.inv(cov_sim)"
   ]
  },
  {
   "cell_type": "code",
   "execution_count": 523,
   "metadata": {},
   "outputs": [],
   "source": [
    "Q = np.linalg.cholesky(cov_sim)\n",
    "noise = (Q*np.random.randn(ntrials,nvox).T).T\n",
    "s_sim = np.random.rand(ntrials,1)*2*np.pi\n",
    "c_sim = fun_basis(s_sim)\n",
    "samples = (W@c_sim.T).T + noise"
   ]
  },
  {
   "cell_type": "code",
   "execution_count": 524,
   "metadata": {},
   "outputs": [],
   "source": [
    "est = np.zeros(ntrials)\n",
    "unc = np.zeros(ntrials)\n",
    "for iTrial in np.arange(ntrials):\n",
    "    b = samples[iTrial, :].T\n",
    "    # Find the maximum likelihood so we can normalize the likelihood to a numerically feasible range \n",
    "    _, mll = globminsearch()\n",
    "    # Compute the integral of the likelihood so we can normalize to a probability distribution over s\n",
    "    Integ = scipy.integrate.quad(fun_lik, 0, 2*np.pi, epsabs=1e-12)[0]\n",
    "    # Compute the first circular moment of the normalized likelihood\n",
    "    E1 =complex_quadrature(fun_Eth1,0, 2*np.pi, epsabs= 1e-12)[0]\n",
    "    \n",
    "    # Compute the circular mean of the normalized likelihood\n",
    "    est[iTrial] = np.mod(np.angle(E1), 2*np.pi)/np.pi*90\n",
    "    # Compute the circular SD of the normalized likelihood          \n",
    "    unc[iTrial] = np.sqrt(-2*np.log(abs(E1)))/np.pi*90"
   ]
  },
  {
   "cell_type": "code",
   "execution_count": 525,
   "metadata": {},
   "outputs": [
    {
     "data": {
      "text/plain": [
       "Text(0, 0.5, 'estimated')"
      ]
     },
     "execution_count": 525,
     "metadata": {},
     "output_type": "execute_result"
    },
    {
     "data": {
      "image/png": "[encoded data removed]",
      "text/plain": [
       "<Figure size 432x288 with 1 Axes>"
      ]
     },
     "metadata": {
      "needs_background": "light"
     },
     "output_type": "display_data"
    }
   ],
   "source": [
    "plt.scatter(s_sim/2/np.pi*180,est)\n",
    "plt.xlabel('simulated')\n",
    "plt.ylabel('estimated')"
   ]
  },
  {
   "cell_type": "code",
   "execution_count": null,
   "metadata": {},
   "outputs": [],
   "source": []
  }
 ],
 "metadata": {
  "kernelspec": {
   "display_name": "Python 3",
   "language": "python",
   "name": "python3"
  },
  "language_info": {
   "codemirror_mode": {
    "name": "ipython",
    "version": 3
   },
   "file_extension": ".py",
   "mimetype": "text/x-python",
   "name": "python",
   "nbconvert_exporter": "python",
   "pygments_lexer": "ipython3",
   "version": "3.7.3"
  }
 },
 "nbformat": 4,
 "nbformat_minor": 4
}
